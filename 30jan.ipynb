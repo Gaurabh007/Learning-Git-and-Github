{
 "cells": [
  {
   "cell_type": "code",
   "execution_count": 6,
   "metadata": {},
   "outputs": [
    {
     "name": "stdout",
     "output_type": "stream",
     "text": [
      "Your Percentage: 81%\n",
      "Your Grade is: B\n"
     ]
    }
   ],
   "source": [
    "p = int(input(\"Enter Your Percentage: \"))\n",
    "\n",
    "print(f\"Your Percentage: {p}%\")\n",
    "if (p > 90):\n",
    "    print(\"Your Grade is: A\")\n",
    "elif p > 80 and p <= 90:\n",
    "    print(\"Your Grade is: B\")\n",
    "elif p >= 60 and p <= 80:\n",
    "    print(\"Your Grade is: C\")\n",
    "else:\n",
    "    print(\"Your Grade is: D\")\n"
   ]
  },
  {
   "cell_type": "code",
   "execution_count": 9,
   "metadata": {},
   "outputs": [
    {
     "name": "stdout",
     "output_type": "stream",
     "text": [
      "Your Cost Price: INR 7412\n",
      "Your Tax percent is: 5%\n",
      "Your total tax is: 370.6\n"
     ]
    }
   ],
   "source": [
    "c = int(input(\"Enter Your Cost Price: \"))\n",
    "\n",
    "print(f\"Your Cost Price: INR {c}\")\n",
    "if (c > 100000):\n",
    "    print(f\"Your Tax percent is: 15%\\nYour total tax is: {(c*15)/100}\")\n",
    "elif c > 50000  and c <=100000 :\n",
    "    print(f\"Your Tax percent is: 10%\\nYour total tax is: {(c*10)/100}\")\n",
    "else:\n",
    "    print(f\"Your Tax percent is: 5%\\nYour total tax is: {(c*5)/100}\")\n"
   ]
  },
  {
   "cell_type": "code",
   "execution_count": 27,
   "metadata": {},
   "outputs": [],
   "source": [
    "ch = int(input(\n",
    "    \"Choose your City to see the Monument of that city:\\n\\t1.Delhi\\n\\t2.Agra\\n\\tJaipur\"))\n",
    "while (ch != 4):\n",
    "    if (ch == 1):\n",
    "        print(\"Monument: RedFort\")\n",
    "        break\n",
    "\n",
    "    elif (ch == 2):\n",
    "        print(\"Monument: Taj Mahal\")\n",
    "        break\n",
    "\n",
    "    elif (ch == 3):\n",
    "        print(\"Monument: Jal Mahal\")\n",
    "        break\n",
    "    else:\n",
    "        print(\"Wrong Choice, Try Again\")\n",
    "        break\n"
   ]
  },
  {
   "cell_type": "code",
   "execution_count": 36,
   "metadata": {},
   "outputs": [
    {
     "name": "stdout",
     "output_type": "stream",
     "text": [
      "Your Number: 25\n",
      "5\n"
     ]
    }
   ],
   "source": [
    "n = int(input(\"Enter your number: \"))\n",
    "print(f\"Your Number: {n}\")\n",
    "count = 0\n",
    "while n > 10:\n",
    "    if (n%3 == 0):\n",
    "        count+=1\n",
    "    n-=1\n",
    "print(counts)"
   ]
  },
  {
   "cell_type": "code",
   "execution_count": null,
   "metadata": {},
   "outputs": [],
   "source": []
  }
 ],
 "metadata": {
  "kernelspec": {
   "display_name": "Python 3",
   "language": "python",
   "name": "python3"
  },
  "language_info": {
   "codemirror_mode": {
    "name": "ipython",
    "version": 3
   },
   "file_extension": ".py",
   "mimetype": "text/x-python",
   "name": "python",
   "nbconvert_exporter": "python",
   "pygments_lexer": "ipython3",
   "version": "3.10.6"
  },
  "orig_nbformat": 4,
  "vscode": {
   "interpreter": {
    "hash": "a0024f5569284e2b511d8cb12062d37de04fed5a3682d14c56150c8974ce8587"
   }
  }
 },
 "nbformat": 4,
 "nbformat_minor": 2
}
